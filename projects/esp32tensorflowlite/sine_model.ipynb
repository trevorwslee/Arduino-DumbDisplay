{
 "cells": [
  {
   "cell_type": "code",
   "execution_count": null,
   "id": "a5188f3e-bb0f-41aa-9e27-3443de05bfe1",
   "metadata": {
    "tags": []
   },
   "outputs": [],
   "source": [
    "# prepare for TensorBoard; clear any logs from previous runs\n",
    "!mkdir logs\n",
    "!rm -rf logs/sine "
   ]
  },
  {
   "cell_type": "code",
   "execution_count": null,
   "id": "da2b4679-21de-49a6-9e0f-59edc2c9bc34",
   "metadata": {
    "tags": []
   },
   "outputs": [],
   "source": [
    "import tensorflow as tf\n",
    "import numpy as np\n",
    "import matplotlib.pyplot as plt\n",
    "import math"
   ]
  },
  {
   "cell_type": "code",
   "execution_count": null,
   "id": "186e34d3-9c3f-4e5b-a406-63ef6e356515",
   "metadata": {
    "tags": []
   },
   "outputs": [],
   "source": [
    "SAMPLES = 1000\n",
    "\n",
    "x_values = np.random.uniform(low=0, high=2*math.pi, size=SAMPLES)\n",
    "np.random.shuffle(x_values)\n",
    "y_values = np.sin(x_values)\n",
    "\n",
    "plt.plot(x_values, y_values, 'r.')\n",
    "plt.show()  "
   ]
  },
  {
   "cell_type": "code",
   "execution_count": null,
   "id": "fdc6fb69-0cb3-4b72-8d29-f3f870d78252",
   "metadata": {
    "tags": []
   },
   "outputs": [],
   "source": [
    "y_values += 0.1 * np.random.randn(*y_values.shape)\n",
    "\n",
    "plt.plot(x_values, y_values, 'b.')\n",
    "plt.show()"
   ]
  },
  {
   "cell_type": "code",
   "execution_count": null,
   "id": "99e61df7-25a7-4489-87f3-19108b9a0215",
   "metadata": {
    "tags": []
   },
   "outputs": [],
   "source": [
    "TRAIN_SPLIT = int(0.6 * SAMPLES)\n",
    "TEST_SPLIT = int(0.2 * SAMPLES + TRAIN_SPLIT)\n",
    "\n",
    "x_train, x_validate, x_test = np.split(x_values, [TRAIN_SPLIT, TEST_SPLIT])\n",
    "y_train, y_validate, y_test = np.split(y_values, [TRAIN_SPLIT, TEST_SPLIT])\n",
    "\n",
    "assert (x_train.size + x_validate.size + x_test.size) == SAMPLES\n",
    "\n",
    "plt.plot(x_train, y_train, 'b.', label=\"Train\")\n",
    "plt.plot(x_validate, y_validate, 'y.', label=\"Validate\")\n",
    "plt.plot(x_test, y_test, 'r.', label=\"Test\")\n",
    "plt.legend()\n",
    "plt.show()"
   ]
  },
  {
   "cell_type": "code",
   "execution_count": null,
   "id": "a1ab9bd0-305d-4654-b2cd-421ec97f193c",
   "metadata": {
    "tags": []
   },
   "outputs": [],
   "source": [
    "from tensorflow.keras import layers\n",
    "\n",
    "model = tf.keras.Sequential()\n",
    "model.add(layers.Dense(16, activation='relu', input_shape=(1,)))\n",
    "model.add(layers.Dense(16, activation='relu'))\n",
    "model.add(layers.Dense(16, activation='relu'))\n",
    "model.add(layers.Dense(1))\n",
    "model.compile(optimizer='rmsprop', loss='mse', metrics=['mae'])\n",
    "model.summary()"
   ]
  },
  {
   "cell_type": "code",
   "execution_count": null,
   "id": "6ca322d9-b757-412c-baac-279a17701efa",
   "metadata": {
    "tags": []
   },
   "outputs": [],
   "source": [
    "tensorboard_callback = tf.keras.callbacks.TensorBoard(log_dir=\"logs/sine\", histogram_freq=1)\n",
    "history = model.fit(x_train, y_train, \n",
    "                    epochs=600, batch_size=16,\n",
    "                    validation_data=(x_validate, y_validate),\n",
    "                    callbacks=[tensorboard_callback])"
   ]
  },
  {
   "cell_type": "code",
   "execution_count": null,
   "id": "9f43dfb7-2039-45e1-aad6-a569f28e7584",
   "metadata": {
    "tags": []
   },
   "outputs": [],
   "source": [
    "loss = history.history['loss']\n",
    "val_loss = history.history['val_loss']\n",
    "\n",
    "epochs = range(1, len(loss) + 1)\n",
    "\n",
    "plt.plot(epochs, loss, 'r.', label='Training loss')\n",
    "plt.plot(epochs, val_loss, 'b', label='Validation loss')\n",
    "plt.title('Training and validation loss')\n",
    "plt.xlabel('Epochs')\n",
    "plt.ylabel('Loss')\n",
    "plt.legend()\n",
    "plt.show()"
   ]
  },
  {
   "cell_type": "code",
   "execution_count": null,
   "id": "43669763-19b3-4882-8c05-e3241f8d814d",
   "metadata": {
    "tags": []
   },
   "outputs": [],
   "source": [
    "SKIP = 100\n",
    "\n",
    "plt.clf()\n",
    "\n",
    "plt.plot(epochs[SKIP:], loss[SKIP:], 'g.', label='Training loss')\n",
    "plt.plot(epochs[SKIP:], val_loss[SKIP:], 'b.', label='Validation loss')\n",
    "plt.title('Training and validation loss')\n",
    "plt.xlabel('Epochs')\n",
    "plt.ylabel('Loss')\n",
    "plt.legend()\n",
    "plt.show()"
   ]
  },
  {
   "cell_type": "code",
   "execution_count": null,
   "id": "9ecc46bf-5042-4bea-913d-c6885ab591bd",
   "metadata": {
    "tags": []
   },
   "outputs": [],
   "source": [
    "loss = model.evaluate(x_test, y_test)\n",
    "predictions = model.predict(x_test)\n",
    "\n",
    "plt.clf()\n",
    "plt.title('Comparison of predictions and actual values')\n",
    "plt.plot(x_test, y_test, 'b.', label='Actual')\n",
    "plt.plot(x_test, predictions, 'r.', label='Predicted')\n",
    "plt.legend()\n",
    "plt.show()"
   ]
  },
  {
   "cell_type": "code",
   "execution_count": null,
   "id": "c3299f95-8307-41da-8d22-b63e8937826d",
   "metadata": {
    "tags": []
   },
   "outputs": [],
   "source": [
    "# create an output directory\n",
    "!mkdir output"
   ]
  },
  {
   "cell_type": "code",
   "execution_count": null,
   "id": "94615d14-4429-442b-92c7-7435e27e771a",
   "metadata": {
    "tags": []
   },
   "outputs": [],
   "source": [
    "converter = tf.lite.TFLiteConverter.from_keras_model(model)\n",
    "tflite_model = converter.convert()\n",
    "open(\"output/sine_model.tflite\", \"wb\").write(tflite_model)"
   ]
  },
  {
   "cell_type": "code",
   "execution_count": null,
   "id": "7f06a8b5-c2a7-40cc-9ebe-621a8e994b1e",
   "metadata": {
    "tags": []
   },
   "outputs": [],
   "source": [
    "!apt-get -qq install xxd\n",
    "# save the file as a C source file\n",
    "!xxd -i output/sine_model.tflite > output/sine_model.cc"
   ]
  },
  {
   "cell_type": "code",
   "execution_count": null,
   "id": "41a7ed1e-6a8a-4697-98e6-d724c6aa78f2",
   "metadata": {
    "tags": []
   },
   "outputs": [],
   "source": [
    "# start TensorBoard \n",
    "# visit TensorBoard http://localhost:9999\n",
    "\n",
    "print(\"*****\")\n",
    "print(\"* visit http://localhost:9999\")\n",
    "print(\"* stop by pressing the 'stop' button\")\n",
    "print(\"*****\")\n",
    "\n",
    "!tensorboard --logdir logs/sine --bind_all --port 9999"
   ]
  }
 ],
 "metadata": {
  "kernelspec": {
   "display_name": "Python 3 (ipykernel)",
   "language": "python",
   "name": "python3"
  },
  "language_info": {
   "codemirror_mode": {
    "name": "ipython",
    "version": 3
   },
   "file_extension": ".py",
   "mimetype": "text/x-python",
   "name": "python",
   "nbconvert_exporter": "python",
   "pygments_lexer": "ipython3",
   "version": "3.10.10"
  }
 },
 "nbformat": 4,
 "nbformat_minor": 5
}
