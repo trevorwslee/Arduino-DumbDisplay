{
 "cells": [
  {
   "cell_type": "code",
   "execution_count": null,
   "id": "4bbc8a66-1a10-46ac-8575-1bae7f5e39f3",
   "metadata": {
    "tags": []
   },
   "outputs": [],
   "source": [
    "# import the needed Python modules\n",
    "\n",
    "import keras\n",
    "import tensorflow as tf\n",
    "from keras.datasets import mnist\n",
    "from keras.models import Sequential\n",
    "from keras.layers import Dense\n",
    "from keras.optimizers import SGD\n",
    "from matplotlib import pyplot as plt\n",
    "from numpy import argmax"
   ]
  },
  {
   "cell_type": "code",
   "execution_count": null,
   "id": "982c98b9-da8b-422d-be23-0cc3bd13c321",
   "metadata": {
    "tags": []
   },
   "outputs": [],
   "source": [
    "# load the MNIST dataset for DL tranining\n",
    "# . X is the input; y is the expected result\n",
    "# . two sets -- one for traning; one for validation\n",
    "\n",
    "(X_train, y_train), (X_valid, y_valid) = mnist.load_data()\n",
    "print(\"the shapes of the datasets\")\n",
    "print(\"X_train:\", X_train.shape)\n",
    "print(\"y_train:\", y_train.shape)\n",
    "print(\"X_valid:\", X_valid.shape)\n",
    "print(\"y_valid:\", y_valid.shape)"
   ]
  },
  {
   "cell_type": "code",
   "execution_count": null,
   "id": "01791af2-063a-46a3-b9a4-9b430fe9708e",
   "metadata": {
    "tags": []
   },
   "outputs": [],
   "source": [
    "# show the first 12 training digits\n",
    "\n",
    "plt.figure(figsize=(5,5))\n",
    "for k in range(12):\n",
    "    plt.subplot(3, 4, k+1)\n",
    "    plt.imshow(X_train[k], cmap='Greys')\n",
    "    plt.axis('off')\n",
    "plt.tight_layout()\n",
    "plt.show()\n",
    "print(\"the first 12 traninig digits:\", y_train[0:12])"
   ]
  },
  {
   "cell_type": "code",
   "execution_count": null,
   "id": "8b38ea75-538d-4385-a93a-2ba60adbd136",
   "metadata": {
    "tags": []
   },
   "outputs": [],
   "source": [
    "# shoe the first one for validation\n",
    "plt.imshow(X_valid[0], cmap='Greys')"
   ]
  },
  {
   "cell_type": "code",
   "execution_count": null,
   "id": "4368cdec-da13-417f-bcb6-f077bb3a2f26",
   "metadata": {
    "tags": []
   },
   "outputs": [],
   "source": [
    "# save the original valiation dataset for later use\n",
    "ORI_X_valid = X_valid\n",
    "ORI_y_valid = y_valid"
   ]
  },
  {
   "cell_type": "code",
   "execution_count": null,
   "id": "11cde4fb-f29a-4dd8-b0d6-5992027edff9",
   "metadata": {
    "tags": []
   },
   "outputs": [],
   "source": [
    "# adjust the traning and validation input\n",
    "\n",
    "X_train = X_train.reshape(60000, 784).astype('float32') / 255\n",
    "X_valid = X_valid.reshape(10000, 784).astype('float32') / 255\n",
    "print(\"X_train:\", X_train)\n",
    "print(\"X_valid:\", X_valid)"
   ]
  },
  {
   "cell_type": "code",
   "execution_count": null,
   "id": "4827b958-41d2-4e72-b59d-325de4d36ca5",
   "metadata": {
    "tags": []
   },
   "outputs": [],
   "source": [
    "# adjust the traning and validation output\n",
    "\n",
    "n_classes = 10\n",
    "y_train = keras.utils.to_categorical(y_train, n_classes)\n",
    "y_valid = keras.utils.to_categorical(y_valid, n_classes)\n",
    "print(ORI_y_valid[0], \"==>\", y_valid[0])  # show the \"categorization\" for first one"
   ]
  },
  {
   "cell_type": "code",
   "execution_count": null,
   "id": "4b806c8c-d32e-406f-a8cc-54c47bff6dc9",
   "metadata": {
    "tags": []
   },
   "outputs": [],
   "source": [
    "# build the DL traning model\n",
    "\n",
    "model = Sequential()\n",
    "model.add(Dense(64, activation='relu', input_shape=(784,)))\n",
    "model.add(Dense(64, activation='relu'))\n",
    "model.add(Dense(10, activation='softmax'))\n",
    "model.summary()"
   ]
  },
  {
   "cell_type": "code",
   "execution_count": null,
   "id": "0b5b5706-be8d-4a4b-9932-d277c64bdecd",
   "metadata": {
    "tags": []
   },
   "outputs": [],
   "source": [
    "# compile the DL traning model\n",
    "model.compile(loss='categorical_crossentropy', optimizer=SGD(learning_rate=0.1), metrics=['accuracy'])"
   ]
  },
  {
   "cell_type": "code",
   "execution_count": null,
   "id": "eaca6c2c-c540-46e3-83c9-12d1886a5cf4",
   "metadata": {
    "tags": []
   },
   "outputs": [],
   "source": [
    "# training (fitting) the model\n",
    "history = model.fit(X_train, y_train, batch_size=128, epochs=20, verbose=1, validation_data=(X_valid, y_valid))"
   ]
  },
  {
   "cell_type": "code",
   "execution_count": null,
   "id": "1c263e43-8416-448a-940d-de3957cda9d3",
   "metadata": {
    "tags": []
   },
   "outputs": [],
   "source": [
    "# show the history of the traning (fitting)\n",
    "\n",
    "loss = history.history['loss']\n",
    "val_loss = history.history['val_loss']\n",
    "\n",
    "epochs = range(1, len(loss) + 1)\n",
    "\n",
    "plt.plot(epochs, loss, 'r.', label='Training loss')\n",
    "plt.plot(epochs, val_loss, 'b', label='Validation loss')\n",
    "plt.title('Training and validation loss')\n",
    "plt.xlabel('Epochs')\n",
    "plt.ylabel('Loss')\n",
    "plt.legend()\n",
    "plt.show()"
   ]
  },
  {
   "cell_type": "code",
   "execution_count": null,
   "id": "baccc220-ec16-403e-8f0f-8dbdea17abdc",
   "metadata": {
    "tags": []
   },
   "outputs": [],
   "source": [
    "# try out one with the trained model\n",
    "\n",
    "idx = 6\n",
    "plt.imshow(ORI_X_valid[idx], cmap='Greys')\n",
    "prediction = model.predict(X_valid[idx : (idx + 1)])[0]\n",
    "ans = argmax(prediction)\n",
    "print(\"ANS:\", ans)"
   ]
  },
  {
   "cell_type": "code",
   "execution_count": null,
   "id": "86bdf567-6b8b-40e6-8eee-3b7ced7aa2f3",
   "metadata": {
    "tags": []
   },
   "outputs": [],
   "source": [
    "# convert and save the model in TFLite format\n",
    "\n",
    "!mkdir output\n",
    "converter = tf.lite.TFLiteConverter.from_keras_model(model)\n",
    "tflite_model = converter.convert()\n",
    "open(\"output/mnist_model.tflite\", \"wb\").write(tflite_model)"
   ]
  },
  {
   "cell_type": "code",
   "execution_count": null,
   "id": "5630ecc6-4637-4037-b170-a11a6b5a4ceb",
   "metadata": {
    "tags": []
   },
   "outputs": [],
   "source": [
    "# save the TFLite file as a C source file -- # save the TFLite file as a C source file\n",
    "\n",
    "!apt-get -qq install xxd\n",
    "!xxd -i output/mnist_model.tflite > output/mnist_model.h"
   ]
  },
  {
   "cell_type": "code",
   "execution_count": null,
   "id": "8847eca1-e280-400a-aefb-0cfe419e485e",
   "metadata": {},
   "outputs": [],
   "source": []
  }
 ],
 "metadata": {
  "kernelspec": {
   "display_name": "Python 3 (ipykernel)",
   "language": "python",
   "name": "python3"
  }
 },
 "nbformat": 4,
 "nbformat_minor": 5
}
